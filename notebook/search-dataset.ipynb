{
 "cells": [
  {
   "cell_type": "code",
   "execution_count": 61,
   "metadata": {},
   "outputs": [],
   "source": [
    "import os\n",
    "import re\n",
    "import string\n",
    "import pandas as pd\n",
    "import sys\n",
    "import numpy as np\n",
    "np.set_printoptions(threshold=sys.maxsize)"
   ]
  },
  {
   "cell_type": "code",
   "execution_count": 62,
   "metadata": {},
   "outputs": [],
   "source": [
    "from nltk.corpus import stopwords\n",
    "from nltk.tokenize import TweetTokenizer\n",
    "from Sastrawi.Stemmer.StemmerFactory import StemmerFactory\n",
    "from textblob import TextBlob"
   ]
  },
  {
   "cell_type": "code",
   "execution_count": 63,
   "metadata": {},
   "outputs": [],
   "source": [
    "stopwords_indonesia = stopwords.words('indonesian')"
   ]
  },
  {
   "cell_type": "code",
   "execution_count": 64,
   "metadata": {},
   "outputs": [],
   "source": [
    "raw_data = pd.read_csv('filter_dataset6.csv')\n",
    "df = pd.DataFrame(raw_data[['user_account', 'tweet','tweet_clean','label']])"
   ]
  },
  {
   "cell_type": "code",
   "execution_count": 65,
   "metadata": {},
   "outputs": [],
   "source": [
    "def get_export():\n",
    "    raw = pd.read_csv('web_dataset.csv')\n",
    "    df = pd.DataFrame(raw[['tweet']])\n",
    "    dictlist = []\n",
    "    for row in df.values:\n",
    "        dictlist.append(row)\n",
    "    return dictlist"
   ]
  },
  {
   "cell_type": "code",
   "execution_count": 66,
   "metadata": {},
   "outputs": [],
   "source": [
    "def clean_export(tweet):\n",
    "    clean = False\n",
    "    g_export = get_export()\n",
    "    for row in g_export:\n",
    "        if tweet == row:\n",
    "            clean = True\n",
    "            break\n",
    "    \n",
    "    return clean"
   ]
  },
  {
   "cell_type": "code",
   "execution_count": 67,
   "metadata": {},
   "outputs": [],
   "source": [
    "df['clean_export'] = df['tweet'].apply(lambda x: clean_export(x))"
   ]
  },
  {
   "cell_type": "code",
   "execution_count": 68,
   "metadata": {},
   "outputs": [],
   "source": [
    "# df.to_csv('a.csv')"
   ]
  },
  {
   "cell_type": "code",
   "execution_count": 69,
   "metadata": {},
   "outputs": [],
   "source": [
    "for i, row in df.iterrows():\n",
    "    if row['clean_export'] == True:\n",
    "        df = df.drop(i)\n",
    "\n",
    "df.drop(['clean_export'], axis=1, inplace=True)"
   ]
  },
  {
   "cell_type": "code",
   "execution_count": 70,
   "metadata": {},
   "outputs": [
    {
     "data": {
      "text/html": [
       "<div>\n",
       "<style scoped>\n",
       "    .dataframe tbody tr th:only-of-type {\n",
       "        vertical-align: middle;\n",
       "    }\n",
       "\n",
       "    .dataframe tbody tr th {\n",
       "        vertical-align: top;\n",
       "    }\n",
       "\n",
       "    .dataframe thead th {\n",
       "        text-align: right;\n",
       "    }\n",
       "</style>\n",
       "<table border=\"1\" class=\"dataframe\">\n",
       "  <thead>\n",
       "    <tr style=\"text-align: right;\">\n",
       "      <th></th>\n",
       "      <th>user_account</th>\n",
       "      <th>tweet</th>\n",
       "      <th>tweet_clean</th>\n",
       "      <th>label</th>\n",
       "    </tr>\n",
       "  </thead>\n",
       "  <tbody>\n",
       "    <tr>\n",
       "      <th>1</th>\n",
       "      <td>@RifkaaSaja</td>\n",
       "      <td>Pemerintah melalui omnibus law RUU Cipta Kerja...</td>\n",
       "      <td>perintah omnibus law rancang undang undang cip...</td>\n",
       "      <td>1</td>\n",
       "    </tr>\n",
       "    <tr>\n",
       "      <th>2</th>\n",
       "      <td>@YudhaNWSumirat</td>\n",
       "      <td>Membalas \\n@FerdinandHaean3Bang hubungannya RU...</td>\n",
       "      <td>balas hubung rancang undang undang cipta kerja...</td>\n",
       "      <td>1</td>\n",
       "    </tr>\n",
       "    <tr>\n",
       "      <th>3</th>\n",
       "      <td>@jungsera49</td>\n",
       "      <td>RUU cipta kerja sudah sesuai dengan peraturan ...</td>\n",
       "      <td>rancang undang undang cipta kerja sesuai atur ...</td>\n",
       "      <td>1</td>\n",
       "    </tr>\n",
       "    <tr>\n",
       "      <th>4</th>\n",
       "      <td>@BennyHarmanID</td>\n",
       "      <td>Coba terka, ada berapa Bab isi dari RUU Cipta ...</td>\n",
       "      <td>coba terka bab isi rancang undang undang cipta...</td>\n",
       "      <td>1</td>\n",
       "    </tr>\n",
       "    <tr>\n",
       "      <th>5</th>\n",
       "      <td>@indozonemedia</td>\n",
       "      <td>Tak hanya polisi anti huru-hara, seekor kucing...</td>\n",
       "      <td>polisi anti huru hara ekor kucing gemas terjun...</td>\n",
       "      <td>1</td>\n",
       "    </tr>\n",
       "    <tr>\n",
       "      <th>...</th>\n",
       "      <td>...</td>\n",
       "      <td>...</td>\n",
       "      <td>...</td>\n",
       "      <td>...</td>\n",
       "    </tr>\n",
       "    <tr>\n",
       "      <th>1809</th>\n",
       "      <td>@1Atie</td>\n",
       "      <td>Membalas \\n@ANGIN131900 halaman ...  Makanya d...</td>\n",
       "      <td>balas halaman ragu demo paham isi rancang unda...</td>\n",
       "      <td>1</td>\n",
       "    </tr>\n",
       "    <tr>\n",
       "      <th>1811</th>\n",
       "      <td>@kyungdoomed_</td>\n",
       "      <td>Membalas \\n@teaboyz_kalo aku awalnya ngejelasi...</td>\n",
       "      <td>balas erti omnibus law rancang undang undang c...</td>\n",
       "      <td>1</td>\n",
       "    </tr>\n",
       "    <tr>\n",
       "      <th>1812</th>\n",
       "      <td>@OfficialBMI__</td>\n",
       "      <td>SBY Jelaskan Alasan Partai Demokrat Tolak Peng...</td>\n",
       "      <td>susilo bambang yudhoyono alas partai demokrat ...</td>\n",
       "      <td>1</td>\n",
       "    </tr>\n",
       "    <tr>\n",
       "      <th>1813</th>\n",
       "      <td>@RidwanDmr</td>\n",
       "      <td>Pak \\n@jokowi\\n @mohmahfudmd\\n Yang seperti in...</td>\n",
       "      <td>takut sah rancang undang undang cipta kerja ra...</td>\n",
       "      <td>0</td>\n",
       "    </tr>\n",
       "    <tr>\n",
       "      <th>1814</th>\n",
       "      <td>@Hamzah_Saputraa</td>\n",
       "      <td>Kehadiran Indra Iskandar diterima oleh Deputi ...</td>\n",
       "      <td>hadir indra iskandar terima deputi bidang huku...</td>\n",
       "      <td>1</td>\n",
       "    </tr>\n",
       "  </tbody>\n",
       "</table>\n",
       "<p>1109 rows × 4 columns</p>\n",
       "</div>"
      ],
      "text/plain": [
       "          user_account                                              tweet  \\\n",
       "1          @RifkaaSaja  Pemerintah melalui omnibus law RUU Cipta Kerja...   \n",
       "2      @YudhaNWSumirat  Membalas \\n@FerdinandHaean3Bang hubungannya RU...   \n",
       "3          @jungsera49  RUU cipta kerja sudah sesuai dengan peraturan ...   \n",
       "4       @BennyHarmanID  Coba terka, ada berapa Bab isi dari RUU Cipta ...   \n",
       "5       @indozonemedia  Tak hanya polisi anti huru-hara, seekor kucing...   \n",
       "...                ...                                                ...   \n",
       "1809            @1Atie  Membalas \\n@ANGIN131900 halaman ...  Makanya d...   \n",
       "1811     @kyungdoomed_  Membalas \\n@teaboyz_kalo aku awalnya ngejelasi...   \n",
       "1812    @OfficialBMI__  SBY Jelaskan Alasan Partai Demokrat Tolak Peng...   \n",
       "1813        @RidwanDmr  Pak \\n@jokowi\\n @mohmahfudmd\\n Yang seperti in...   \n",
       "1814  @Hamzah_Saputraa  Kehadiran Indra Iskandar diterima oleh Deputi ...   \n",
       "\n",
       "                                            tweet_clean  label  \n",
       "1     perintah omnibus law rancang undang undang cip...      1  \n",
       "2     balas hubung rancang undang undang cipta kerja...      1  \n",
       "3     rancang undang undang cipta kerja sesuai atur ...      1  \n",
       "4     coba terka bab isi rancang undang undang cipta...      1  \n",
       "5     polisi anti huru hara ekor kucing gemas terjun...      1  \n",
       "...                                                 ...    ...  \n",
       "1809  balas halaman ragu demo paham isi rancang unda...      1  \n",
       "1811  balas erti omnibus law rancang undang undang c...      1  \n",
       "1812  susilo bambang yudhoyono alas partai demokrat ...      1  \n",
       "1813  takut sah rancang undang undang cipta kerja ra...      0  \n",
       "1814  hadir indra iskandar terima deputi bidang huku...      1  \n",
       "\n",
       "[1109 rows x 4 columns]"
      ]
     },
     "execution_count": 70,
     "metadata": {},
     "output_type": "execute_result"
    }
   ],
   "source": [
    "df"
   ]
  },
  {
   "cell_type": "code",
   "execution_count": 71,
   "metadata": {},
   "outputs": [],
   "source": [
    "df.to_csv('a.csv')"
   ]
  },
  {
   "cell_type": "code",
   "execution_count": null,
   "metadata": {},
   "outputs": [],
   "source": []
  }
 ],
 "metadata": {
  "kernelspec": {
   "display_name": "Python 3",
   "language": "python",
   "name": "python3"
  },
  "language_info": {
   "codemirror_mode": {
    "name": "ipython",
    "version": 3
   },
   "file_extension": ".py",
   "mimetype": "text/x-python",
   "name": "python",
   "nbconvert_exporter": "python",
   "pygments_lexer": "ipython3",
   "version": "3.8.5"
  }
 },
 "nbformat": 4,
 "nbformat_minor": 4
}
