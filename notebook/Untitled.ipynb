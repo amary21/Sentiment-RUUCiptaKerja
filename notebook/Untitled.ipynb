{
 "cells": [
  {
   "cell_type": "code",
   "execution_count": 1,
   "metadata": {},
   "outputs": [
    {
     "name": "stdout",
     "output_type": "stream",
     "text": [
      "('foo', 'foo')\n"
     ]
    }
   ],
   "source": [
    "import re\n",
    "import csv\n",
    "from getpass import getpass\n",
    "from time import sleep\n",
    "from selenium.webdriver.common.keys import Keys\n",
    "from selenium.common.exceptions import NoSuchElementException\n",
    "# from msedge.selenium_tools import Edge, EdgeOptions\n",
    "from selenium import webdriver\n",
    "from webdriver_manager.chrome import ChromeDriverManager\n",
    "from selenium.webdriver.common.action_chains import ActionChains\n",
    "from xvfbwrapper import Xvfb\n",
    "\n",
    "display = Xvfb()\n",
    "display.start()\n",
    "\n",
    "options = webdriver.ChromeOptions()\n",
    "options.add_argument(\"enable-automation\")\n",
    "options.add_argument(\"--headless\")\n",
    "options.add_argument(\"--window-size=800,600\")\n",
    "options.add_argument(\"no-sandbox\")\n",
    "options.add_argument(\"--disable-extensions\")\n",
    "options.add_argument(\"--dns-prefetch-disable\")\n",
    "options.add_argument(\"--disable-gpu\")\n",
    "options.add_argument(\"--disable-dev-shm-usage\")\n",
    "options.set_headless()\n",
    "\n",
    "data = []\n",
    "driver = webdriver.Chrome(executable_path=ChromeDriverManager().install(), options=options)\n",
    "actions = ActionChains(driver)"
   ]
  },
  {
   "cell_type": "code",
   "execution_count": null,
   "metadata": {},
   "outputs": [],
   "source": [
    "import threading\n",
    "import queue\n",
    "\n",
    "my_queue = queue.Queue()\n",
    "\n",
    "def storeInQueue(f):\n",
    "    def wrapper(*args):\n",
    "        my_queue.put(f(*args))\n",
    "    return wrapper\n",
    "\n",
    "\n",
    "@storeInQueue\n",
    "def get_anime(anim):\n",
    "    if idx <= 233:\n",
    "        continue\n",
    "\n",
    "    xpath = anim.find_element_by_xpath('.//ul/li/a')\n",
    "    title = xpath.text\n",
    "    link = xpath.get_attribute('href')\n",
    "    driver.execute_script('window.open(\"'+link+'\",\"_blank\");')\n",
    "    driver.switch_to.window(driver.window_handles[1])\n",
    "    title_detail = driver.find_element_by_class_name('jdlrx').find_element_by_tag_name('h1').text\n",
    "    img = driver.find_element_by_class_name('fotoanime').find_element_by_tag_name('img').get_attribute('src')\n",
    "\n",
    "    detail = driver.find_elements_by_xpath('.//div[@class=\"infozingle\"]/p')\n",
    "    title_det = detail[0].find_element_by_tag_name('span').text.split(\":\")[1]\n",
    "    title_jpn = detail[1].find_element_by_tag_name('span').text.split(\":\")[1]\n",
    "    skor = detail[2].find_element_by_tag_name('span').text.split(\":\")[1]\n",
    "    produser = detail[3].find_element_by_tag_name('span').text.split(\":\")[1]\n",
    "    tipe = detail[4].find_element_by_tag_name('span').text.split(\":\")[1]\n",
    "    status = detail[5].find_element_by_tag_name('span').text.split(\":\")[1]\n",
    "    total_eps = detail[6].find_element_by_tag_name('span').text.split(\":\")[1]\n",
    "    durasi = detail[7].find_element_by_tag_name('span').text.split(\":\")[1]\n",
    "    tgl_rilis = detail[8].find_element_by_tag_name('span').text.split(\":\")[1]\n",
    "    studio = detail[9].find_element_by_tag_name('span').text.split(\":\")[1]\n",
    "    genre = detail[10].find_element_by_tag_name('span').text.split(\":\")[1]\n",
    "\n",
    "    print(\">>>>>>>>>>>>\",title)\n",
    "\n",
    "    sinopsis = driver.find_elements_by_xpath('.//div[@class=\"sinopc\"]/p')\n",
    "    data_sinopsis = \"\"\n",
    "    for sin in sinopsis:\n",
    "        data_sinopsis += sin.text\n",
    "\n",
    "    eps_anime = driver.find_elements_by_xpath('.//div[@class=\"episodelist\"]')[1]\n",
    "    eps_list = eps_anime.find_elements_by_xpath('.//ul/li')\n",
    "    data_eps = []\n",
    "    for eps in eps_list:\n",
    "        eps_name = eps.find_element_by_xpath('.//span[1]/a').text\n",
    "        url = eps.find_element_by_xpath('.//span[1]/a').get_attribute('href')\n",
    "        date = eps.find_element_by_xpath('.//span[2]').text\n",
    "        print(eps_name)\n",
    "\n",
    "        driver.execute_script('window.open(\"'+url+'\",\"_blank\");')\n",
    "        driver.switch_to.window(driver.window_handles[2])\n",
    "\n",
    "        src_video = driver.find_element_by_xpath('//div[@class=\"responsive-embed-stream\"]/iframe').get_attribute('src')\n",
    "        video = (eps_name, url, date, src_video)\n",
    "\n",
    "        data_eps.append(video)\n",
    "\n",
    "        driver.close()\n",
    "        driver.switch_to.window(driver.window_handles[1])\n",
    "\n",
    "    anime = ('anime'+str(idx), title, title_detail, img, title_det, title_jpn, skor, produser, tipe, status, total_eps, durasi, tgl_rilis, studio, genre, data_sinopsis, data_eps)\n",
    "    return anime\n"
   ]
  },
  {
   "cell_type": "code",
   "execution_count": null,
   "metadata": {},
   "outputs": [],
   "source": [
    "driver.get('https://otakudesu.moe/anime-list')"
   ]
  },
  {
   "cell_type": "code",
   "execution_count": null,
   "metadata": {},
   "outputs": [],
   "source": [
    "data = []\n",
    "list_anime = driver.find_elements_by_class_name('jdlbar')\n",
    "print(len(list_anime))\n",
    "try:\n",
    "    for idx, anim in enumerate(list_anime):\n",
    "        if idx <= 500:\n",
    "            continue\n",
    "\n",
    "        t = threading.Thread(target=get_anime, args = (anim, ))\n",
    "        t.start()\n",
    "        \n",
    "        data.append(my_queue.get())\n",
    "\n",
    "        driver.close()\n",
    "        driver.switch_to.window(driver.window_handles[0])"
   ]
  },
  {
   "cell_type": "code",
   "execution_count": null,
   "metadata": {},
   "outputs": [],
   "source": [
    "with open('otakudesu11.csv', 'w', newline='', encoding='utf-8') as f:\n",
    "    header = ['id', 'title', 'title_detail', 'img', 'title_ori', 'title_jpn', 'skor', 'produser', 'tipe', 'status', 'total_eps', 'durasi', 'tgl_rilis', 'studio', 'genre', 'data_sinopsis', 'data_eps']\n",
    "    writer = csv.writer(f)\n",
    "    writer.writerow(header)\n",
    "    writer.writerows(data)"
   ]
  }
 ],
 "metadata": {
  "kernelspec": {
   "display_name": "Python 3",
   "language": "python",
   "name": "python3"
  },
  "language_info": {
   "codemirror_mode": {
    "name": "ipython",
    "version": 3
   },
   "file_extension": ".py",
   "mimetype": "text/x-python",
   "name": "python",
   "nbconvert_exporter": "python",
   "pygments_lexer": "ipython3",
   "version": "3.8.5"
  }
 },
 "nbformat": 4,
 "nbformat_minor": 4
}
